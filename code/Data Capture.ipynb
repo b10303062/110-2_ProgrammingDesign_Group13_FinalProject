{
 "cells": [
  {
   "cell_type": "code",
   "execution_count": 2,
   "metadata": {},
   "outputs": [],
   "source": [
    "# 產生日期範圍\n",
    "\n",
    "import datetime\n",
    "\n",
    "def dt_to_str(date_obj):\n",
    "    return '{:04}'.format(date_obj.year)+'-'+'{:02}'.format(date_obj.month)+'-'+'{:02}'.format(date_obj.day)\n",
    "\n",
    "def str_to_dt(string):\n",
    "    word = string.split('-')\n",
    "    y = int(word[0])\n",
    "    m = int(word[1])\n",
    "    d = int(word[2])\n",
    "    return datetime.date(y, m, d)\n",
    "\n",
    "start = datetime.date(2022, 5, 5)\n",
    "end = datetime.date(2022, 5, 26)\n",
    "time = start\n",
    "lst = []\n",
    "\n",
    "donnot_get = ['2021-06-01', '2021-07-15', '2021-08-05', '2021-08-23', '2021-09-15', '2021-10-08', '2021-10-31', '2021-11-20', '2021-12-12']\n",
    "\n",
    "while time <= end:\n",
    "    if time not in [str_to_dt(i) for i in donnot_get]:\n",
    "        lst += [time]\n",
    "    time += datetime.timedelta(1)\n",
    "\n",
    "#print(lst)\n",
    "\n",
    "words = []\n",
    "\n",
    "for t in lst:\n",
    "    if words == []:\n",
    "        words += [[dt_to_str(t)]]\n",
    "    elif len(words[-1]) == 7:\n",
    "        words += [[dt_to_str(t)]]\n",
    "    else:\n",
    "        words[-1] += [dt_to_str(t)]\n",
    "\n",
    "#pprint(words)\n",
    "\n"
   ]
  },
  {
   "cell_type": "code",
   "execution_count": 4,
   "metadata": {},
   "outputs": [
    {
     "data": {
      "application/vnd.jupyter.widget-view+json": {
       "model_id": "5ebe7588c6bd484e9c2ebea918593878",
       "version_major": 2,
       "version_minor": 0
      },
      "text/plain": [
       "  0%|          | 0/4 [00:00<?, ?it/s]"
      ]
     },
     "metadata": {},
     "output_type": "display_data"
    },
    {
     "name": "stdout",
     "output_type": "stream",
     "text": [
      "Done\n"
     ]
    }
   ],
   "source": [
    "# 抓取資料\n",
    "\n",
    "import json\n",
    "import csv\n",
    "import requests\n",
    "import datetime\n",
    "from tqdm.notebook import tqdm\n",
    "import time\n",
    "\n",
    "def str_to_dt(string):\n",
    "    from datetime import date\n",
    "    word = string.split('-')\n",
    "    y = int(word[0])\n",
    "    m = int(word[1])\n",
    "    d = int(word[2])\n",
    "    return date(y, m, d)\n",
    "\n",
    "with open('ptx.py') as f:\n",
    "    exec(f.read())\n",
    "app_id = ''\n",
    "app_key = ''\n",
    "a = Auth(app_id, app_key)\n",
    "\n",
    "\n",
    "\n",
    "for ver, tq in zip(words, tqdm(words)):\n",
    "    #ver = ['2022-04-29', '2022-04-30',]\n",
    "    ver_word = ','.join(ver)\n",
    "    response = requests.get(f'https://ptx.transportdata.tw:443/MOTCAdvanced/v2/Historical/Rail/TRA/LiveTrainDelay?Dates={ver_word}&%24format=CSV', headers= a.get_auth_header())\n",
    "    #response = requests.get(f'https://ptx.transportdata.tw:443/MOTCAdvanced/v2/Historical/Rail/TRA/DailyTrainInfo/Date/{ver_word}?%24format=CSV', headers= a.get_auth_header())\n",
    "\n",
    "    content = response.content.decode('utf8')\n",
    "\n",
    "    csv_file = list(csv.reader(content.splitlines()))\n",
    "\n",
    "    if len(csv_file) <= 1:\n",
    "        print('No Data in: ',ver_word)\n",
    "        time.sleep(1.1)\n",
    "        continue\n",
    "\n",
    "    title = [i.encode('utf-8').decode('utf-8-sig') for i in csv_file[0]]   #encode和decode的運用方式還不清楚，但這個方法是目前唯一能解決問題的方法\n",
    "\n",
    "    for v in ver:\n",
    "        i = 1\n",
    "        with open(f'.\\\\DailyDelayInfo\\\\{v}.csv', 'w', newline='',encoding='utf-8-sig') as f:\n",
    "            wrt = csv.writer(f)\n",
    "            wrt.writerow(title)\n",
    "            if csv_file[i] == []:\n",
    "                break\n",
    "            data_amt = 0\n",
    "            while i < len(csv_file):\n",
    "                if datetime.strptime(csv_file[i][5], \"%Y-%m-%d %H:%M:%S%z\").date() == str_to_dt(v):\n",
    "                    data_amt += 1\n",
    "                    wrt.writerow(csv_file[i])\n",
    "                i += 1\n",
    "            #if data_amt == 0:\n",
    "                #print('No Data in', v)\n",
    "    time.sleep(1.1)\n",
    "\n",
    "print('Done')\n"
   ]
  },
  {
   "cell_type": "code",
   "execution_count": null,
   "metadata": {},
   "outputs": [],
   "source": []
  }
 ],
 "metadata": {
  "interpreter": {
   "hash": "ad2bdc8ecc057115af97d19610ffacc2b4e99fae6737bb82f5d7fb13d2f2c186"
  },
  "kernelspec": {
   "display_name": "Python 3.9.7 ('base')",
   "language": "python",
   "name": "python3"
  },
  "language_info": {
   "codemirror_mode": {
    "name": "ipython",
    "version": 3
   },
   "file_extension": ".py",
   "mimetype": "text/x-python",
   "name": "python",
   "nbconvert_exporter": "python",
   "pygments_lexer": "ipython3",
   "version": "3.9.7"
  },
  "orig_nbformat": 4
 },
 "nbformat": 4,
 "nbformat_minor": 2
}
