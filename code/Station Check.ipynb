{
 "cells": [
  {
   "cell_type": "code",
   "execution_count": null,
   "metadata": {},
   "outputs": [],
   "source": [
    "import os\n",
    "data = os.walk('.\\\\DailyDelayInfo')\n",
    "for i in data:\n",
    "    files = i[2]\n",
    "\n",
    "#print(files)"
   ]
  },
  {
   "cell_type": "code",
   "execution_count": 16,
   "metadata": {},
   "outputs": [
    {
     "data": {
      "application/vnd.jupyter.widget-view+json": {
       "model_id": "5b0535b2f8514af1bdb2ad4532212c25",
       "version_major": 2,
       "version_minor": 0
      },
      "text/plain": [
       "  0%|          | 0/360 [00:00<?, ?it/s]"
      ]
     },
     "metadata": {},
     "output_type": "display_data"
    }
   ],
   "source": [
    "import csv\n",
    "from tqdm.notebook import tqdm\n",
    "\n",
    "sta_lst = []\n",
    "\n",
    "for f, tq in zip(files, tqdm(files)):\n",
    "    route = f'.\\\\DailyDelayInfo\\\\{f}'\n",
    "    with open(route, 'r', encoding='utf8') as csv_file:\n",
    "        whole_file = list(csv.reader(csv_file))\n",
    "        title = whole_file[0]\n",
    "    for s in whole_file[1:]:\n",
    "        if s[2] not in sta_lst:\n",
    "            sta_lst += [s[2]]\n"
   ]
  },
  {
   "cell_type": "code",
   "execution_count": 17,
   "metadata": {},
   "outputs": [],
   "source": [
    "with open('Stations.txt', 'w', encoding='utf8') as f:\n",
    "    f.writelines('\\n'.join(sta_lst))"
   ]
  },
  {
   "cell_type": "code",
   "execution_count": null,
   "metadata": {},
   "outputs": [],
   "source": []
  }
 ],
 "metadata": {
  "interpreter": {
   "hash": "ad2bdc8ecc057115af97d19610ffacc2b4e99fae6737bb82f5d7fb13d2f2c186"
  },
  "kernelspec": {
   "display_name": "Python 3.9.7 ('base')",
   "language": "python",
   "name": "python3"
  },
  "language_info": {
   "codemirror_mode": {
    "name": "ipython",
    "version": 3
   },
   "file_extension": ".py",
   "mimetype": "text/x-python",
   "name": "python",
   "nbconvert_exporter": "python",
   "pygments_lexer": "ipython3",
   "version": "3.9.7"
  },
  "orig_nbformat": 4
 },
 "nbformat": 4,
 "nbformat_minor": 2
}
